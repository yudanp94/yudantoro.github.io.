{
 "cells": [
  {
   "cell_type": "code",
   "execution_count": 1,
   "id": "4c665e83-3bdb-4347-95dd-af6851d43bf3",
   "metadata": {},
   "outputs": [
    {
     "name": "stdout",
     "output_type": "stream",
     "text": [
      "halo tugas metode komputasi\n"
     ]
    }
   ],
   "source": [
    "print(\"halo tugas metode komputasi\")"
   ]
  },
  {
   "cell_type": "code",
   "execution_count": null,
   "id": "f686c96f-14d7-45e9-aa94-257ce03cb4f9",
   "metadata": {},
   "outputs": [],
   "source": []
  }
 ],
 "metadata": {
  "kernelspec": {
   "display_name": "Python 3",
   "language": "python",
   "name": "python3"
  },
  "language_info": {
   "codemirror_mode": {
    "name": "ipython",
    "version": 3
   },
   "file_extension": ".py",
   "mimetype": "text/x-python",
   "name": "python",
   "nbconvert_exporter": "python",
   "pygments_lexer": "ipython3",
   "version": "3.9.1"
  }
 },
 "nbformat": 4,
 "nbformat_minor": 5
}
