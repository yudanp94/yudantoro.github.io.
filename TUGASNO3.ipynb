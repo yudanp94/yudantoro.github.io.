{
 "cells": [
  {
   "cell_type": "code",
   "execution_count": null,
   "id": "f686c96f-14d7-45e9-aa94-257ce03cb4f9",
   "metadata": {},
   "outputs": [],
   "source": [
    "#|====================================|\n",
    "#                                     |\n",
    "#           Program halo.py           |\n",
    "#    by yudantoro@mail.ugm.ac.id      |\n",
    "#                                     |\n",
    "#|====================================|\n",
    "#  Nama:Yudantoro Prasetyo Noerwan Wardono\n",
    "#  NIM :20/455427/PA/19642\n",
    "print(\"halo tugas metode kom\")"
   ]
  }
 ],
 "metadata": {
  "kernelspec": {
   "display_name": "Python 3",
   "language": "python",
   "name": "python3"
  },
  "language_info": {
   "codemirror_mode": {
    "name": "ipython",
    "version": 3
   },
   "file_extension": ".py",
   "mimetype": "text/x-python",
   "name": "python",
   "nbconvert_exporter": "python",
   "pygments_lexer": "ipython3",
   "version": "3.9.1"
  }
 },
 "nbformat": 4,
 "nbformat_minor": 5
}
